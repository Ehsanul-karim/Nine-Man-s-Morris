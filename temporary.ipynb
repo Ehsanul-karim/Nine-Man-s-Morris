{
 "cells": [
  {
   "cell_type": "code",
   "execution_count": 10,
   "metadata": {},
   "outputs": [
    {
     "data": {
      "text/plain": [
       "[1, 2, 4, 4, 4]"
      ]
     },
     "execution_count": 10,
     "metadata": {},
     "output_type": "execute_result"
    }
   ],
   "source": [
    "import random\n",
    "li = [1,2,4,4,4]\n",
    "li[:]"
   ]
  },
  {
   "cell_type": "code",
   "execution_count": 18,
   "metadata": {},
   "outputs": [
    {
     "name": "stdout",
     "output_type": "stream",
     "text": [
      "h\n"
     ]
    }
   ],
   "source": [
    "memory = {}\n",
    "m1 = (7,8)\n",
    "m2 = (7,5)\n",
    "m3 = (7,2)\n",
    "m4 = (6,0)\n",
    "memory[m1] = 15\n",
    "memory[m2] = 151\n",
    "memory[m3] = 154\n",
    "if memory.get(m4) is None: \n",
    "    print(\"h\")"
   ]
  },
  {
   "cell_type": "code",
   "execution_count": 12,
   "metadata": {},
   "outputs": [
    {
     "name": "stdout",
     "output_type": "stream",
     "text": [
      "5\n"
     ]
    }
   ],
   "source": [
    "import random\n",
    "li = [1,2,4,5]\n",
    "i = random.randint(0, 4)\n",
    "print(li[3])"
   ]
  },
  {
   "cell_type": "code",
   "execution_count": 13,
   "metadata": {},
   "outputs": [
    {
     "data": {
      "text/plain": [
       "array([0, 0, 0, 0, 0])"
      ]
     },
     "execution_count": 13,
     "metadata": {},
     "output_type": "execute_result"
    }
   ],
   "source": [
    "import numpy as np\n",
    "import random\n",
    "import cv2\n",
    "li = [35,35,35,35,35]\n",
    "li = np.array(li)\n",
    "\n",
    "random.choices(li, k=2, weights=[200,200,200,200,200])\n",
    "\n",
    "cv2.normalize(li, li, 0, 10, cv2.NORM_MINMAX)\n"
   ]
  },
  {
   "cell_type": "code",
   "execution_count": 6,
   "metadata": {},
   "outputs": [
    {
     "name": "stdout",
     "output_type": "stream",
     "text": [
      "[ 0. 13.  8. 16.  5.]\n"
     ]
    }
   ],
   "source": [
    "import numpy as np\n",
    "li = [-11,2,-3,5,-6]\n",
    "\n",
    "li = np.array(li, dtype=np.float32)\n",
    "\n",
    "\n",
    "\n",
    "\n",
    "print(li)"
   ]
  },
  {
   "cell_type": "code",
   "execution_count": 80,
   "metadata": {},
   "outputs": [],
   "source": [
    "def seconds_membership(crisp_second):\n",
    "    degree = {}\n",
    "    degree['very_early'] = 0\n",
    "    degree['early'] = 0\n",
    "    degree['ok'] = 0\n",
    "    degree['late'] = 0\n",
    "    degree['very_late'] = 0\n",
    "    if 0<=crisp_second<15:\n",
    "        degree['very_early'] = 1\n",
    "    elif 15<=crisp_second<20:\n",
    "        degree['very_early'] = (20-crisp_second)/(20-15)\n",
    "        degree['early'] = (crisp_second-15)/(25-15)\n",
    "    elif 20<=crisp_second<25:\n",
    "        degree['early'] = (crisp_second-15)/(25-15)\n",
    "    elif 25<=crisp_second<27:\n",
    "        degree['early'] = (30-crisp_second)/(30-25)\n",
    "    elif 27<=crisp_second<30:\n",
    "        degree['early'] = (30-crisp_second)/(30-25)\n",
    "        degree['ok'] = (crisp_second-27)/(34-27)\n",
    "    elif 30<=crisp_second<34:\n",
    "        degree['ok'] = (crisp_second-27)/(34-27)\n",
    "    elif 34<=crisp_second<40:\n",
    "        degree['ok'] = (40-crisp_second)/(40-34)\n",
    "        degree['late'] = (crisp_second-34)/(45-34)\n",
    "    elif 40<=crisp_second<45:\n",
    "        degree['late'] = (crisp_second-34)/(45-34)\n",
    "    elif 45<=crisp_second<55:\n",
    "        degree['late'] = 1\n",
    "    elif 55<=crisp_second<65:\n",
    "        degree['late'] = (65-crisp_second)/(65-55)\n",
    "        degree['very_late'] = (crisp_second-55)/(65-55)\n",
    "    elif crisp_second>=65:\n",
    "        degree['very_late'] = 1\n",
    "    return degree\n",
    "\n",
    "\n"
   ]
  },
  {
   "cell_type": "code",
   "execution_count": 81,
   "metadata": {},
   "outputs": [],
   "source": [
    "def total_number_move_membership(n):\n",
    "    degree = {}\n",
    "    degree['low'] = 0\n",
    "    degree['avg'] = 0\n",
    "    degree['huge'] = 0\n",
    "    if 0<=n<7:\n",
    "        degree['low'] = 1\n",
    "    elif 7<=n<10:\n",
    "        degree['low'] = (10-n)/(10-7)\n",
    "        degree['avg'] = (n-7)/(10-7)\n",
    "    elif 10<=n<11:\n",
    "        degree['avg'] = (12-n)/(12-10)\n",
    "    elif 11<=n<12:\n",
    "        degree['avg'] = (12-n)/(12-10)\n",
    "        degree['huge'] = (n-11)/(13-11)\n",
    "    elif 12<=n<13:\n",
    "        degree['huge'] = (n-11)/(13-11)\n",
    "    elif n>=13:\n",
    "        degree['huge'] = 1\n",
    "    \n",
    "    return degree\n"
   ]
  },
  {
   "cell_type": "code",
   "execution_count": 82,
   "metadata": {},
   "outputs": [],
   "source": [
    "def guti_membership(n):\n",
    "    degree = {}\n",
    "    degree['poor'] = 0\n",
    "    degree['good'] = 0\n",
    "    degree['best'] = 0\n",
    "\n",
    "    if 0<=n<3:\n",
    "        degree['poor'] = 1\n",
    "    elif 3<=n<5:\n",
    "        degree['poor'] = (5-n)/(5-3)\n",
    "        degree['good'] = (n-3)/(5-3)\n",
    "    elif 5<=n<7:\n",
    "        degree['good'] = (7-n)/(7-5)\n",
    "        degree['best'] = (n-5)/(7-5)\n",
    "    elif n>=7:\n",
    "        degree['best'] = 1\n",
    "\n",
    "    return degree\n"
   ]
  },
  {
   "cell_type": "code",
   "execution_count": 90,
   "metadata": {},
   "outputs": [],
   "source": [
    "def evaluate_black_player_rating(sec_degree, M_degree, W_degree, B_degree):\n",
    "    rating = {\n",
    "        'worst': 0,\n",
    "        'bad': 0,\n",
    "        'moderate': 0,\n",
    "        'good': 0,\n",
    "        'excellent': 0\n",
    "    }\n",
    "    rating['excellent'] = min(B_degree['best'], W_degree['poor'], max(sec_degree['very_early'], sec_degree['early']), M_degree['low'])\n",
    "    rating['good'] = min(max(B_degree['good'], B_degree['best']), W_degree['good'], max(sec_degree['early'],sec_degree['ok']), max(M_degree['low'], M_degree['avg']))\n",
    "    rating['moderate'] = min(B_degree['good'], max(W_degree['good'], W_degree['best']), sec_degree['late'], M_degree['avg'])\n",
    "    rating['bad'] = min(max(B_degree['good'], B_degree['poor']), max(W_degree['good'], W_degree['best']), max(sec_degree['late'], sec_degree['very_late']), max(M_degree['avg'], M_degree['huge']))\n",
    "    rating['worst'] = min(B_degree['poor'], W_degree['best'], sec_degree['very_late'], M_degree['huge'])\n",
    "\n",
    "    return rating \n"
   ]
  },
  {
   "cell_type": "code",
   "execution_count": 104,
   "metadata": {},
   "outputs": [
    {
     "name": "stdout",
     "output_type": "stream",
     "text": [
      "[ 0.          0.          0.         40.         33.33333333]\n",
      "74.54545454545455\n"
     ]
    }
   ],
   "source": [
    "import numpy as np\n",
    "def find_fuzzy_score():\n",
    "    sec_degree =  seconds_membership(28)\n",
    "    M_degree = total_number_move_membership(9)\n",
    "    W_degree = guti_membership(4)\n",
    "    B_degree = guti_membership(8)\n",
    "    ratings_detail = evaluate_black_player_rating(sec_degree, M_degree, W_degree, B_degree)\n",
    "    values_list = np.array(list(ratings_detail.values())) * 100\n",
    "    print(values_list)\n",
    "\n",
    "    weighted_mean  = ((values_list[0] * 40) + (values_list[1] * 50) + (values_list[2] * 60) + (values_list[3] * 70) + (values_list[4] * 80))/values_list.sum()\n",
    "    print(weighted_mean)\n",
    "\n",
    "find_fuzzy_score()\n"
   ]
  },
  {
   "cell_type": "code",
   "execution_count": 110,
   "metadata": {},
   "outputs": [
    {
     "data": {
      "text/plain": [
       "'abas 12'"
      ]
     },
     "execution_count": 110,
     "metadata": {},
     "output_type": "execute_result"
    }
   ],
   "source": [
    "s = \"abas\"\n",
    "\n",
    "f = 12\n",
    "s+=\" \"\n",
    "s+=str(f)\n",
    "s"
   ]
  },
  {
   "cell_type": "code",
   "execution_count": null,
   "metadata": {},
   "outputs": [],
   "source": []
  },
  {
   "cell_type": "code",
   "execution_count": null,
   "metadata": {},
   "outputs": [],
   "source": [
    "    # B_degree['poor'], W_degree['poor'], sec_degree['very_early'], M_degree['low']\n",
    "    # B_degree['poor'], W_degree['poor'], sec_degree['very_early'], M_degree['avg']\n",
    "    # B_degree['poor'], W_degree['poor'], sec_degree['very_early'], M_degree['huge']\n",
    "    # B_degree['poor'], W_degree['poor'], sec_degree['early'], M_degree['low']\n",
    "    # B_degree['poor'], W_degree['poor'], sec_degree['early'], M_degree['avg']\n",
    "    # B_degree['poor'], W_degree['poor'], sec_degree['early'], M_degree['huge']\n",
    "    # B_degree['poor'], W_degree['poor'], sec_degree['ok'], M_degree['low']\n",
    "    # B_degree['poor'], W_degree['poor'], sec_degree['ok'], M_degree['avg']\n",
    "    # B_degree['poor'], W_degree['poor'], sec_degree['ok'], M_degree['huge']\n",
    "    # B_degree['poor'], W_degree['poor'], sec_degree['late'], M_degree['low']\n",
    "    # B_degree['poor'], W_degree['poor'], sec_degree['late'], M_degree['avg']\n",
    "    # B_degree['poor'], W_degree['poor'], sec_degree['late'], M_degree['huge']\n",
    "    # B_degree['poor'], W_degree['poor'], sec_degree['very_late'], M_degree['low']\n",
    "    # B_degree['poor'], W_degree['poor'], sec_degree['very_late'], M_degree['avg']\n",
    "    # B_degree['poor'], W_degree['poor'], sec_degree['very_late'], M_degree['huge']\n",
    "    # B_degree['poor'], W_degree['good'], sec_degree['very_early'], M_degree['low']\n",
    "    # B_degree['poor'], W_degree['good'], sec_degree['very_early'], M_degree['avg']\n",
    "    # B_degree['poor'], W_degree['good'], sec_degree['very_early'], M_degree['huge']\n",
    "    # B_degree['poor'], W_degree['good'], sec_degree['early'], M_degree['low']\n",
    "    # B_degree['poor'], W_degree['good'], sec_degree['early'], M_degree['avg']\n",
    "    # B_degree['poor'], W_degree['good'], sec_degree['early'], M_degree['huge']\n",
    "    # B_degree['poor'], W_degree['good'], sec_degree['ok'], M_degree['low']\n",
    "    # B_degree['poor'], W_degree['good'], sec_degree['ok'], M_degree['avg']\n",
    "    # B_degree['poor'], W_degree['good'], sec_degree['ok'], M_degree['huge']\n",
    "    # B_degree['poor'], W_degree['good'], sec_degree['late'], M_degree['low']\n",
    "    # B_degree['poor'], W_degree['good'], sec_degree['late'], M_degree['avg']\n",
    "    # B_degree['poor'], W_degree['good'], sec_degree['late'], M_degree['huge']\n",
    "    # B_degree['poor'], W_degree['good'], sec_degree['very_late'], M_degree['low']\n",
    "    # B_degree['poor'], W_degree['good'], sec_degree['very_late'], M_degree['avg']\n",
    "    # B_degree['poor'], W_degree['good'], sec_degree['very_late'], M_degree['huge']\n",
    "    # B_degree['poor'], W_degree['best'], sec_degree['very_early'], M_degree['low']\n",
    "    # B_degree['poor'], W_degree['best'], sec_degree['very_early'], M_degree['avg']\n",
    "    # B_degree['poor'], W_degree['best'], sec_degree['very_early'], M_degree['huge']\n",
    "    # B_degree['poor'], W_degree['best'], sec_degree['early'], M_degree['low']\n",
    "    # B_degree['poor'], W_degree['best'], sec_degree['early'], M_degree['avg']\n",
    "    # B_degree['poor'], W_degree['best'], sec_degree['early'], M_degree['huge']\n",
    "    # B_degree['poor'], W_degree['best'], sec_degree['ok'], M_degree['low']\n",
    "    # B_degree['poor'], W_degree['best'], sec_degree['ok'], M_degree['avg']\n",
    "    # B_degree['poor'], W_degree['best'], sec_degree['ok'], M_degree['huge']\n",
    "    # B_degree['poor'], W_degree['best'], sec_degree['late'], M_degree['low']\n",
    "    # B_degree['poor'], W_degree['best'], sec_degree['late'], M_degree['avg']\n",
    "    # B_degree['poor'], W_degree['best'], sec_degree['late'], M_degree['huge']\n",
    "    # B_degree['poor'], W_degree['best'], sec_degree['very_late'], M_degree['low']\n",
    "    # B_degree['poor'], W_degree['best'], sec_degree['very_late'], M_degree['avg']\n",
    "    # B_degree['poor'], W_degree['best'], sec_degree['very_late'], M_degree['huge']\n",
    "    # B_degree['good'], W_degree['poor'], sec_degree['very_early'], M_degree['low']\n",
    "    # B_degree['good'], W_degree['poor'], sec_degree['very_early'], M_degree['avg']\n",
    "    # B_degree['good'], W_degree['poor'], sec_degree['very_early'], M_degree['huge']\n",
    "    # B_degree['good'], W_degree['poor'], sec_degree['early'], M_degree['low']\n",
    "    # B_degree['good'], W_degree['poor'], sec_degree['early'], M_degree['avg']\n",
    "    # B_degree['good'], W_degree['poor'], sec_degree['early'], M_degree['huge']\n",
    "    # B_degree['good'], W_degree['poor'], sec_degree['ok'], M_degree['low']\n",
    "    # B_degree['good'], W_degree['poor'], sec_degree['ok'], M_degree['avg']\n",
    "    # B_degree['good'], W_degree['poor'], sec_degree['ok'], M_degree['huge']\n",
    "    # B_degree['good'], W_degree['poor'], sec_degree['late'], M_degree['low']\n",
    "    # B_degree['good'], W_degree['poor'], sec_degree['late'], M_degree['avg']\n",
    "    # B_degree['good'], W_degree['poor'], sec_degree['late'], M_degree['huge']\n",
    "    # B_degree['good'], W_degree['poor'], sec_degree['very_late'], M_degree['low']\n",
    "    # B_degree['good'], W_degree['poor'], sec_degree['very_late'], M_degree['avg']\n",
    "    # B_degree['good'], W_degree['poor'], sec_degree['very_late'], M_degree['huge']\n",
    "    # B_degree['good'], W_degree['good'], sec_degree['very_early'], M_degree['low']\n",
    "    # B_degree['good'], W_degree['good'], sec_degree['very_early'], M_degree['avg']\n",
    "    # B_degree['good'], W_degree['good'], sec_degree['very_early'], M_degree['huge']\n",
    "    # B_degree['good'], W_degree['good'], sec_degree['early'], M_degree['low']\n",
    "    # B_degree['good'], W_degree['good'], sec_degree['early'], M_degree['avg']\n",
    "    # B_degree['good'], W_degree['good'], sec_degree['early'], M_degree['huge']\n",
    "    # B_degree['good'], W_degree['good'], sec_degree['ok'], M_degree['low']\n",
    "    # B_degree['good'], W_degree['good'], sec_degree['ok'], M_degree['avg']\n",
    "    # B_degree['good'], W_degree['good'], sec_degree['ok'], M_degree['huge']\n",
    "    # B_degree['good'], W_degree['good'], sec_degree['late'], M_degree['low']\n",
    "    # B_degree['good'], W_degree['good'], sec_degree['late'], M_degree['avg']\n",
    "    # B_degree['good'], W_degree['good'], sec_degree['late'], M_degree['huge']\n",
    "    # B_degree['good'], W_degree['good'], sec_degree['very_late'], M_degree['low']\n",
    "    # B_degree['good'], W_degree['good'], sec_degree['very_late'], M_degree['avg']\n",
    "    # B_degree['good'], W_degree['good'], sec_degree['very_late'], M_degree['huge']\n",
    "    # B_degree['good'], W_degree['best'], sec_degree['very_early'], M_degree['low']\n",
    "    # B_degree['good'], W_degree['best'], sec_degree['very_early'], M_degree['avg']\n",
    "    # B_degree['good'], W_degree['best'], sec_degree['very_early'], M_degree['huge']\n",
    "    # B_degree['good'], W_degree['best'], sec_degree['early'], M_degree['low']\n",
    "    # B_degree['good'], W_degree['best'], sec_degree['early'], M_degree['avg']\n",
    "    # B_degree['good'], W_degree['best'], sec_degree['early'], M_degree['huge']\n",
    "    # B_degree['good'], W_degree['best'], sec_degree['ok'], M_degree['low']\n",
    "    # B_degree['good'], W_degree['best'], sec_degree['ok'], M_degree['avg']\n",
    "    # B_degree['good'], W_degree['best'], sec_degree['ok'], M_degree['huge']\n",
    "    # B_degree['good'], W_degree['best'], sec_degree['late'], M_degree['low']\n",
    "    # B_degree['good'], W_degree['best'], sec_degree['late'], M_degree['avg']\n",
    "    # B_degree['good'], W_degree['best'], sec_degree['late'], M_degree['huge']\n",
    "    # B_degree['good'], W_degree['best'], sec_degree['very_late'], M_degree['low']\n",
    "    # B_degree['good'], W_degree['best'], sec_degree['very_late'], M_degree['avg']\n",
    "    # B_degree['good'], W_degree['best'], sec_degree['very_late'], M_degree['huge']\n",
    "    # B_degree['best'], W_degree['poor'], sec_degree['very_early'], M_degree['low']\n",
    "    # B_degree['best'], W_degree['poor'], sec_degree['very_early'], M_degree['avg']\n",
    "    # B_degree['best'], W_degree['poor'], sec_degree['very_early'], M_degree['huge']\n",
    "    # B_degree['best'], W_degree['poor'], sec_degree['early'], M_degree['low']\n",
    "    # B_degree['best'], W_degree['poor'], sec_degree['early'], M_degree['avg']\n",
    "    # B_degree['best'], W_degree['poor'], sec_degree['early'], M_degree['huge']\n",
    "    # B_degree['best'], W_degree['poor'], sec_degree['ok'], M_degree['low']\n",
    "    # B_degree['best'], W_degree['poor'], sec_degree['ok'], M_degree['avg']\n",
    "    # B_degree['best'], W_degree['poor'], sec_degree['ok'], M_degree['huge']\n",
    "    # B_degree['best'], W_degree['poor'], sec_degree['late'], M_degree['low']\n",
    "    # B_degree['best'], W_degree['poor'], sec_degree['late'], M_degree['avg']\n",
    "    # B_degree['best'], W_degree['poor'], sec_degree['late'], M_degree['huge']\n",
    "    # B_degree['best'], W_degree['poor'], sec_degree['very_late'], M_degree['low']\n",
    "    # B_degree['best'], W_degree['poor'], sec_degree['very_late'], M_degree['avg']\n",
    "    # B_degree['best'], W_degree['poor'], sec_degree['very_late'], M_degree['huge']\n",
    "    # B_degree['best'], W_degree['good'], sec_degree['very_early'], M_degree['low']\n",
    "    # B_degree['best'], W_degree['good'], sec_degree['very_early'], M_degree['avg']\n",
    "    # B_degree['best'], W_degree['good'], sec_degree['very_early'], M_degree['huge']\n",
    "    # B_degree['best'], W_degree['good'], sec_degree['early'], M_degree['low']\n",
    "    # B_degree['best'], W_degree['good'], sec_degree['early'], M_degree['avg']\n",
    "    # B_degree['best'], W_degree['good'], sec_degree['early'], M_degree['huge']\n",
    "    # B_degree['best'], W_degree['good'], sec_degree['ok'], M_degree['low']\n",
    "    # B_degree['best'], W_degree['good'], sec_degree['ok'], M_degree['avg']\n",
    "    # B_degree['best'], W_degree['good'], sec_degree['ok'], M_degree['huge']\n",
    "    # B_degree['best'], W_degree['good'], sec_degree['late'], M_degree['low']\n",
    "    # B_degree['best'], W_degree['good'], sec_degree['late'], M_degree['avg']\n",
    "    # B_degree['best'], W_degree['good'], sec_degree['late'], M_degree['huge']\n",
    "    # B_degree['best'], W_degree['good'], sec_degree['very_late'], M_degree['low']\n",
    "    # B_degree['best'], W_degree['good'], sec_degree['very_late'], M_degree['avg']\n",
    "    # B_degree['best'], W_degree['good'], sec_degree['very_late'], M_degree['huge']\n",
    "    # B_degree['best'], W_degree['best'], sec_degree['very_early'], M_degree['low']\n",
    "    # B_degree['best'], W_degree['best'], sec_degree['very_early'], M_degree['avg']\n",
    "    # B_degree['best'], W_degree['best'], sec_degree['very_early'], M_degree['huge']\n",
    "    # B_degree['best'], W_degree['best'], sec_degree['early'], M_degree['low']\n",
    "    # B_degree['best'], W_degree['best'], sec_degree['early'], M_degree['avg']\n",
    "    # B_degree['best'], W_degree['best'], sec_degree['early'], M_degree['huge']\n",
    "    # B_degree['best'], W_degree['best'], sec_degree['ok'], M_degree['low']\n",
    "    # B_degree['best'], W_degree['best'], sec_degree['ok'], M_degree['avg']\n",
    "    # B_degree['best'], W_degree['best'], sec_degree['ok'], M_degree['huge']\n",
    "    # B_degree['best'], W_degree['best'], sec_degree['late'], M_degree['low']\n",
    "    # B_degree['best'], W_degree['best'], sec_degree['late'], M_degree['avg']\n",
    "    # B_degree['best'], W_degree['best'], sec_degree['late'], M_degree['huge']\n",
    "    # B_degree['best'], W_degree['best'], sec_degree['very_late'], M_degree['low']\n",
    "    # B_degree['best'], W_degree['best'], sec_degree['very_late'], M_degree['avg']\n",
    "    # B_degree['best'], W_degree['best'], sec_degree['very_late'], M_degree['huge']\n"
   ]
  }
 ],
 "metadata": {
  "kernelspec": {
   "display_name": "example",
   "language": "python",
   "name": "python3"
  },
  "language_info": {
   "codemirror_mode": {
    "name": "ipython",
    "version": 3
   },
   "file_extension": ".py",
   "mimetype": "text/x-python",
   "name": "python",
   "nbconvert_exporter": "python",
   "pygments_lexer": "ipython3",
   "version": "3.11.7"
  }
 },
 "nbformat": 4,
 "nbformat_minor": 2
}
